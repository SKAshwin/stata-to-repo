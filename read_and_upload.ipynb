{
 "cells": [
  {
   "cell_type": "code",
   "execution_count": 60,
   "source": [
    "from pandas import read_stata\n",
    "import pandas as pd\n",
    "from lcsscaseapi.client import LCSSClient\n",
    "from lcsscaseapi.types import USCircuitCaseMeta\n",
    "import datetime\n",
    "import os\n",
    "from dotenv import load_dotenv"
   ],
   "outputs": [],
   "metadata": {}
  },
  {
   "cell_type": "code",
   "execution_count": 4,
   "source": [
    "df = read_stata(\"BloombergCASELEVEL_Touse.dta\")\n",
    "\n",
    "print(len(df[\"caseid\"]))"
   ],
   "outputs": [
    {
     "output_type": "stream",
     "name": "stdout",
     "text": [
      "387898\n"
     ]
    }
   ],
   "metadata": {}
  },
  {
   "cell_type": "code",
   "execution_count": 56,
   "source": [
    "def create_case_meta(row):\n",
    "    case_id = row['caseid']\n",
    "    circuit_num = row['Circuit']\n",
    "    circuit_name = USCircuitCaseMeta.CIRCUITS[circuit_num]\n",
    "    self_cite = row['citation']\n",
    "    docket_number = row['docketnumber']\n",
    "    if not pd.isnull(row['date']):\n",
    "        date = datetime.date(int(row['year']), int(row['month']), int(row['day']))\n",
    "    else:\n",
    "        date = None\n",
    "    tags = construct_tags(row)\n",
    "    outcome = construct_outcome(row)\n",
    "\n",
    "    return USCircuitCaseMeta(case_id=case_id, circuit_name=circuit_name, self_cite=self_cite, \n",
    "                                docket_number=docket_number, date=date, tags=tags, outcome = outcome)\n",
    "\n",
    "def construct_tags(row):\n",
    "    tags = []\n",
    "    if row['Criminal'] == 1:\n",
    "        tags.append('CRIMINAL')\n",
    "    \n",
    "    if row['Civil_Rights'] == 1:\n",
    "        tags.append('CIVIL RIGHTS')\n",
    "\n",
    "    if row['First_Amendment'] == 1:\n",
    "        tags.append('FIRST AMENDMENT')\n",
    "    \n",
    "    if row['Due_Process'] == 1:\n",
    "        tags.append('DUE PROCESS')\n",
    "    \n",
    "    if row['Privacy'] == 1:\n",
    "        tags.append('PRIVACY')\n",
    "    \n",
    "    if row['Labor_Relations'] == 1:\n",
    "        tags.append('LABOR RELATIONS')\n",
    "    \n",
    "    if row['Econ_Activity'] == 1:\n",
    "        tags.append('ECONOMIC ACTIVITY')\n",
    "\n",
    "    if row['Miscellanous'] == 1:\n",
    "        tags.append('MISCELLANEOUS')\n",
    "\n",
    "    return tags\n",
    "\n",
    "def construct_outcome(row):\n",
    "    outcomes = []\n",
    "\n",
    "    if row[\"Affirmed\"] == 1:\n",
    "        outcomes.append(\"AFFIRMED\")\n",
    "    \n",
    "    if row[\"AffirmedInPart\"] == 1:\n",
    "        outcomes.append(\"AFFIRMED (IN PART)\")\n",
    "    \n",
    "    if row[\"Reversed\"] == 1:\n",
    "        outcomes.append(\"REVERSED\")\n",
    "\n",
    "    if row[\"ReversedInPart\"] == 1:\n",
    "        outcomes.append(\"REVERSED (IN PART)\")\n",
    "    \n",
    "    if row[\"Vacated\"] == 1:\n",
    "        outcomes.append(\"VACATED\")\n",
    "\n",
    "    if row[\"VacatedInPart\"] == 1:\n",
    "        outcomes.append(\"VACATED (IN PART)\")\n",
    "\n",
    "    if row[\"Remanded\"] == 1:\n",
    "        outcomes.append(\"REMANDED\")\n",
    "\n",
    "    if len(outcomes) == 0:\n",
    "        return None\n",
    "    else:\n",
    "        return \",\".join(outcomes)\n",
    "\n",
    "\n",
    "\n",
    "    "
   ],
   "outputs": [],
   "metadata": {}
  },
  {
   "cell_type": "code",
   "execution_count": 57,
   "source": [
    "# takes 39.5s to run\n",
    "cases = df.apply(create_case_meta, axis=1)\n",
    "\n",
    "print(len(cases))"
   ],
   "outputs": [
    {
     "output_type": "stream",
     "name": "stdout",
     "text": [
      "387898\n"
     ]
    }
   ],
   "metadata": {}
  },
  {
   "cell_type": "code",
   "execution_count": 64,
   "source": [
    "load_dotenv()\n",
    "\n",
    "USERNAME = os.getenv('ACCOUNT')\n",
    "PWD = os.getenv('PASSWORD')\n",
    "\n",
    "client = LCSSClient(username=USERNAME, password=PWD)"
   ],
   "outputs": [
    {
     "output_type": "stream",
     "name": "stdout",
     "text": [
      "sudolcss\n",
      "affirmedinpart\n"
     ]
    }
   ],
   "metadata": {}
  },
  {
   "cell_type": "code",
   "execution_count": null,
   "source": [
    "client.upload_us_cases(cases)"
   ],
   "outputs": [],
   "metadata": {}
  }
 ],
 "metadata": {
  "orig_nbformat": 4,
  "language_info": {
   "name": "python",
   "version": "3.6.9",
   "mimetype": "text/x-python",
   "codemirror_mode": {
    "name": "ipython",
    "version": 3
   },
   "pygments_lexer": "ipython3",
   "nbconvert_exporter": "python",
   "file_extension": ".py"
  },
  "kernelspec": {
   "name": "python3",
   "display_name": "Python 3.6.9 64-bit ('venv': venv)"
  },
  "interpreter": {
   "hash": "4d2961f35c2819ad27aef0630749d17fc7f9b9fe09bbacd82eca82e48911dd16"
  }
 },
 "nbformat": 4,
 "nbformat_minor": 2
}