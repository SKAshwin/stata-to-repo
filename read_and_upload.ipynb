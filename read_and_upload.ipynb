{
 "cells": [
  {
   "cell_type": "code",
   "execution_count": null,
   "source": [
    "from pandas import read_stata\n",
    "\n",
    "\n",
    "df = read_stata(\"BloombergCASELEVEL_Touse.dta\")\n",
    "\n",
    "print(len(df[\"caseid\"]))"
   ],
   "outputs": [],
   "metadata": {}
  }
 ],
 "metadata": {
  "orig_nbformat": 4,
  "language_info": {
   "name": "python"
  }
 },
 "nbformat": 4,
 "nbformat_minor": 2
}