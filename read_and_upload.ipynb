{
 "cells": [
  {
   "cell_type": "code",
   "execution_count": 1,
   "source": [
    "from pandas import read_stata\n",
    "import pandas as pd\n",
    "from lcsscaseapi.client import LCSSClient\n",
    "from lcsscaseapi.types import USCircuitCaseMeta, USJudge, JudgeRuling\n",
    "import datetime\n",
    "import os\n",
    "from dotenv import load_dotenv"
   ],
   "outputs": [],
   "metadata": {}
  },
  {
   "cell_type": "code",
   "execution_count": 4,
   "source": [
    "df = read_stata(\"BloombergCASELEVEL_Touse.dta\")\n",
    "\n",
    "print(len(df[\"caseid\"]))"
   ],
   "outputs": [
    {
     "output_type": "stream",
     "name": "stdout",
     "text": [
      "387898\n"
     ]
    }
   ],
   "metadata": {}
  },
  {
   "cell_type": "code",
   "execution_count": 48,
   "source": [
    "df = df.head(n=1000) # sub sample to play with"
   ],
   "outputs": [],
   "metadata": {}
  },
  {
   "cell_type": "code",
   "execution_count": 49,
   "source": [
    "def create_case_meta(row):\n",
    "    case_id = row['caseid']\n",
    "    circuit_num = row['Circuit']\n",
    "    circuit_name = USCircuitCaseMeta.CIRCUITS[circuit_num]\n",
    "    self_cite = row['citation']\n",
    "    docket_number = row['docketnumber']\n",
    "    if not pd.isnull(row['date']):\n",
    "        date = datetime.date(int(row['year']), int(row['month']), int(row['day']))\n",
    "    else:\n",
    "        date = None\n",
    "    tags = construct_tags(row)\n",
    "    outcome = construct_outcome(row)\n",
    "\n",
    "    return USCircuitCaseMeta(case_id=case_id, circuit_name=circuit_name, self_cite=self_cite, \n",
    "                                docket_number=docket_number, date=date, tags=tags, outcome = outcome)\n",
    "\n",
    "def construct_tags(row):\n",
    "    tags = []\n",
    "    if row['Criminal'] == 1:\n",
    "        tags.append('CRIMINAL')\n",
    "    \n",
    "    if row['Civil_Rights'] == 1:\n",
    "        tags.append('CIVIL RIGHTS')\n",
    "\n",
    "    if row['First_Amendment'] == 1:\n",
    "        tags.append('FIRST AMENDMENT')\n",
    "    \n",
    "    if row['Due_Process'] == 1:\n",
    "        tags.append('DUE PROCESS')\n",
    "    \n",
    "    if row['Privacy'] == 1:\n",
    "        tags.append('PRIVACY')\n",
    "    \n",
    "    if row['Labor_Relations'] == 1:\n",
    "        tags.append('LABOR RELATIONS')\n",
    "    \n",
    "    if row['Econ_Activity'] == 1:\n",
    "        tags.append('ECONOMIC ACTIVITY')\n",
    "\n",
    "    if row['Miscellanous'] == 1:\n",
    "        tags.append('MISCELLANEOUS')\n",
    "\n",
    "    return tags\n",
    "\n",
    "def construct_outcome(row):\n",
    "    outcomes = []\n",
    "\n",
    "    if row[\"Affirmed\"] == 1:\n",
    "        outcomes.append(\"AFFIRMED\")\n",
    "    \n",
    "    if row[\"AffirmedInPart\"] == 1:\n",
    "        outcomes.append(\"AFFIRMED (IN PART)\")\n",
    "    \n",
    "    if row[\"Reversed\"] == 1:\n",
    "        outcomes.append(\"REVERSED\")\n",
    "\n",
    "    if row[\"ReversedInPart\"] == 1:\n",
    "        outcomes.append(\"REVERSED (IN PART)\")\n",
    "    \n",
    "    if row[\"Vacated\"] == 1:\n",
    "        outcomes.append(\"VACATED\")\n",
    "\n",
    "    if row[\"VacatedInPart\"] == 1:\n",
    "        outcomes.append(\"VACATED (IN PART)\")\n",
    "\n",
    "    if row[\"Remanded\"] == 1:\n",
    "        outcomes.append(\"REMANDED\")\n",
    "\n",
    "    if len(outcomes) == 0:\n",
    "        return None\n",
    "    else:\n",
    "        return \",\".join(outcomes)\n",
    "\n",
    "\n",
    "\n",
    "    "
   ],
   "outputs": [],
   "metadata": {}
  },
  {
   "cell_type": "code",
   "execution_count": 50,
   "source": [
    "# takes 39.5s to run\n",
    "cases = df.apply(create_case_meta, axis=1)\n",
    "\n",
    "print(len(cases))"
   ],
   "outputs": [
    {
     "output_type": "stream",
     "name": "stdout",
     "text": [
      "1000\n"
     ]
    }
   ],
   "metadata": {}
  },
  {
   "cell_type": "code",
   "execution_count": 5,
   "source": [
    "load_dotenv()\n",
    "\n",
    "USERNAME = os.getenv('ACCOUNT')\n",
    "PWD = os.getenv('PASSWORD')\n",
    "\n",
    "client = LCSSClient(username=USERNAME, password=PWD)"
   ],
   "outputs": [],
   "metadata": {}
  },
  {
   "cell_type": "code",
   "execution_count": 78,
   "source": [
    "#returned_cases = client.upload_us_cases(cases)"
   ],
   "outputs": [],
   "metadata": {}
  },
  {
   "cell_type": "code",
   "execution_count": 6,
   "source": [
    "# Now, time to create all the USJudges and JudgeRulings\n",
    "\n",
    "# The idea will be to create judges from every single case\n",
    "# Then later collapse this into just the unique judges (which match on every field, since its unclear if orig_name's are unique)\n",
    "\n",
    "# Given a row in the stata file, creates a tuple of USJudges\n",
    "def create_judge_tuple(row):\n",
    "    return (create_judge(row, 1), create_judge(row, 2), create_judge(row, 3))\n",
    "\n",
    "# For a given row and judge number, returns that judge's details as a USJudge object\n",
    "# judgenum = 1, 2 or 3 for judges labelled j1, j2 or j3\n",
    "def create_judge(row, judgenum):\n",
    "    name = judge_property(row, judgenum, \"name\")  # if empty string, return None is what this does\n",
    "    name = None if name == \"\" else name\n",
    "    orig_name = judge_property(row, judgenum, \"Origname\")\n",
    "    gender_num = judge_property(row, judgenum, \"gender\")\n",
    "    gender = None if pd.isnull(gender_num) else USJudge.GENDERS[int(gender_num)-1] # 1 is converted to MALE, 2 is converted to FEMALE\n",
    "    party_num = judge_property(row, judgenum, \"party\")\n",
    "    party_num = party_num_cleaning(party_num=party_num, name=name)\n",
    "    party = None if pd.isnull(party_num) else USJudge.PARTIES[1-int(party_num)] # 1 is converted to Democrat, 0 is converted to Republican\n",
    "    senior_num = judge_property(row, judgenum, \"Senior\")\n",
    "    senior = None if pd.isnull(senior_num) else bool(senior_num)\n",
    "\n",
    "    assert name != \"\"\n",
    "    assert orig_name != \"\"\n",
    "    assert gender == USJudge.MALE or gender_num != 1\n",
    "    assert party == USJudge.DEMOCRAT or party_num != 1\n",
    "    assert senior != False or senior_num == 0\n",
    "\n",
    "    return USJudge(name=name, orig_name=orig_name, gender=gender, senior=senior, party=party)\n",
    "\n",
    "# For a given judge and property, returns the property\n",
    "# For example, calling judge_property(row, \"j1\", \"name\") will fetch j1name from the row\n",
    "def judge_property(row, judgenum, judgeprop):\n",
    "    return row[\"j\" + str(judgenum) + judgeprop]\n",
    "\n",
    "# Convert unclean party numbers to 1 for democrat, 0 for republican\n",
    "def party_num_cleaning(party_num, name):\n",
    "    party_num = 0 if name == \"BOND, HUGH LENNOX\" else party_num # BOND Appointed by Ulysses S Grant (R)\n",
    "    party_num = 1 if name == \"HAYS, PAUL\" else party_num # HAYS Appointed by John F Kennedy (D)\n",
    "    party_num = 0 if name == \"MAHONEY, J. DANIEL\" else party_num # MAHONEY Appointed by Ronald Reagan (R)\n",
    "    party_num = 0 if name == \"BURNS, LOUIS HENRY\" else party_num # BURNS Appointed by Calvin Coolidge (R)\n",
    "    party_num = 1 if name == \"BAER, HAROLD, JR.\" else party_num # many Orignames Appointed by Bill Clinton (D) - also a district court judge\n",
    "\n",
    "    party_num = None if party_num == 3 else party_num # unclear what party number of 3 really means, leave it blank for now\n",
    "\n",
    "    return party_num\n"
   ],
   "outputs": [],
   "metadata": {}
  },
  {
   "cell_type": "code",
   "execution_count": 7,
   "source": [
    "judges_per_case = df.apply(create_judge_tuple, axis=1)\n",
    "\n",
    "print(len(judges_per_case))"
   ],
   "outputs": [
    {
     "output_type": "stream",
     "name": "stdout",
     "text": [
      "387898\n"
     ]
    }
   ],
   "metadata": {}
  },
  {
   "cell_type": "code",
   "execution_count": 8,
   "source": [
    "# Extract unique judges\n",
    "from lcsscaseapi.types import Judge\n",
    "all_judges = set()\n",
    "for judges in judges_per_case:\n",
    "    (j1, j2, j3) = judges\n",
    "    assert j1.judge_orig_name != None\n",
    "    assert j2.judge_orig_name != None\n",
    "    assert j3.judge_orig_name != None\n",
    "\n",
    "    all_judges.add(j1)\n",
    "    all_judges.add(j2)\n",
    "    all_judges.add(j3)\n",
    "\n",
    "print(len(all_judges))"
   ],
   "outputs": [
    {
     "output_type": "stream",
     "name": "stdout",
     "text": [
      "<bound method Judge.__hash__ of Judge Object: {\"id\": 2, \"judge_gender\": null, \"judge_name\": null, \"judge_orig_name\": null}>\n",
      "5926\n"
     ]
    }
   ],
   "metadata": {}
  },
  {
   "cell_type": "code",
   "execution_count": 15,
   "source": [
    "judge_list = list(all_judges)\n",
    "\n",
    "#uploaded_judges = client.upload_us_judges(judge_list)"
   ],
   "outputs": [],
   "metadata": {}
  },
  {
   "cell_type": "code",
   "execution_count": 16,
   "source": [
    "print(len(uploaded_judges))\n"
   ],
   "outputs": [
    {
     "output_type": "stream",
     "name": "stdout",
     "text": [
      "5926\n"
     ]
    }
   ],
   "metadata": {}
  },
  {
   "cell_type": "code",
   "execution_count": 25,
   "source": [
    "from copy import deepcopy\n",
    "# Create dictionary mapping id-less judge to ID\n",
    "judge_id_dict = dict()\n",
    "for judge in uploaded_judges:\n",
    "    idless_judge = deepcopy(judge)\n",
    "    idless_judge.id = None\n",
    "    assert judge.id != None\n",
    "    judge_id_dict[idless_judge] = judge.id"
   ],
   "outputs": [],
   "metadata": {}
  },
  {
   "cell_type": "code",
   "execution_count": 29,
   "source": [
    "\n",
    "\n",
    "for i in range(10): #range(len(judges_per_case)):\n",
    "    caseid = df.iloc[i]['caseid']\n",
    "    (j1, j2, j3) = judges_per_case[i]\n",
    "\n",
    "    # fetch IDs of every uploaded judge\n",
    "    j1.id = judge_id_dict[j1]\n",
    "    j2.id = judge_id_dict[j2]\n",
    "    j3.id = judge_id_dict[j3]"
   ],
   "outputs": [
    {
     "output_type": "stream",
     "name": "stdout",
     "text": [
      "5946\n"
     ]
    }
   ],
   "metadata": {}
  }
 ],
 "metadata": {
  "orig_nbformat": 4,
  "language_info": {
   "name": "python",
   "version": "3.6.9",
   "mimetype": "text/x-python",
   "codemirror_mode": {
    "name": "ipython",
    "version": 3
   },
   "pygments_lexer": "ipython3",
   "nbconvert_exporter": "python",
   "file_extension": ".py"
  },
  "kernelspec": {
   "name": "python3",
   "display_name": "Python 3.6.9 64-bit ('venv': venv)"
  },
  "interpreter": {
   "hash": "4d2961f35c2819ad27aef0630749d17fc7f9b9fe09bbacd82eca82e48911dd16"
  }
 },
 "nbformat": 4,
 "nbformat_minor": 2
}